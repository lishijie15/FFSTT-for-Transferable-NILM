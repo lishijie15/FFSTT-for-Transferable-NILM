{
 "cells": [
  {
   "cell_type": "markdown",
   "metadata": {},
   "source": [
    "## How to carry out your own NILM experiment"
   ]
  },
  {
   "cell_type": "markdown",
   "metadata": {},
   "source": [
    "The NILM experiment will be  on nilmtk.api as nilmtk-contrib does."
   ]
  },
  {
   "cell_type": "markdown",
   "metadata": {},
   "source": [
    "First, you should import **nilmtk.api** and **specific algorithms from nilmtk.disaggregate**"
   ]
  },
  {
   "cell_type": "code",
   "execution_count": 1,
   "metadata": {},
   "outputs": [
    {
     "ename": "AttributeError",
     "evalue": "module 'matplotlib.dates' has no attribute '_to_ordinalf'",
     "output_type": "error",
     "traceback": [
      "\u001B[1;31m---------------------------------------------------------------------------\u001B[0m",
      "\u001B[1;31mAttributeError\u001B[0m                            Traceback (most recent call last)",
      "\u001B[1;32m~\\AppData\\Local\\Temp\\ipykernel_21980\\2260893570.py\u001B[0m in \u001B[0;36m<module>\u001B[1;34m\u001B[0m\n\u001B[1;32m----> 1\u001B[1;33m \u001B[1;32mfrom\u001B[0m \u001B[0mnilmtk\u001B[0m\u001B[1;33m.\u001B[0m\u001B[0mapi\u001B[0m \u001B[1;32mimport\u001B[0m \u001B[0mAPI\u001B[0m\u001B[1;33m\u001B[0m\u001B[1;33m\u001B[0m\u001B[0m\n\u001B[0m\u001B[0;32m      2\u001B[0m \u001B[1;32mimport\u001B[0m \u001B[0mwarnings\u001B[0m\u001B[1;33m\u001B[0m\u001B[1;33m\u001B[0m\u001B[0m\n\u001B[0;32m      3\u001B[0m \u001B[0mwarnings\u001B[0m\u001B[1;33m.\u001B[0m\u001B[0mfilterwarnings\u001B[0m\u001B[1;33m(\u001B[0m\u001B[1;34m\"ignore\"\u001B[0m\u001B[1;33m)\u001B[0m\u001B[1;33m\u001B[0m\u001B[1;33m\u001B[0m\u001B[0m\n\u001B[0;32m      4\u001B[0m \u001B[1;32mfrom\u001B[0m \u001B[0mnilmtk\u001B[0m\u001B[1;33m.\u001B[0m\u001B[0mdisaggregate\u001B[0m \u001B[1;32mimport\u001B[0m \u001B[0mSGN\u001B[0m\u001B[1;33m\u001B[0m\u001B[1;33m\u001B[0m\u001B[0m\n\u001B[0;32m      5\u001B[0m \u001B[1;33m\u001B[0m\u001B[0m\n",
      "\u001B[1;32mD:\\BaiduSyncdisk\\paper_NILM\\NeuralNILM_Pytorch-main\\nilmtk\\__init__.py\u001B[0m in \u001B[0;36m<module>\u001B[1;34m\u001B[0m\n\u001B[0;32m      7\u001B[0m     \u001B[1;32mfrom\u001B[0m \u001B[0mnilmtk\u001B[0m\u001B[1;33m.\u001B[0m\u001B[0mversion\u001B[0m \u001B[1;32mimport\u001B[0m \u001B[0mversion\u001B[0m \u001B[1;32mas\u001B[0m \u001B[0m__version__\u001B[0m\u001B[1;33m\u001B[0m\u001B[1;33m\u001B[0m\u001B[0m\n\u001B[0;32m      8\u001B[0m     \u001B[1;32mfrom\u001B[0m \u001B[0mnilmtk\u001B[0m\u001B[1;33m.\u001B[0m\u001B[0mtimeframe\u001B[0m \u001B[1;32mimport\u001B[0m \u001B[0mTimeFrame\u001B[0m\u001B[1;33m\u001B[0m\u001B[1;33m\u001B[0m\u001B[0m\n\u001B[1;32m----> 9\u001B[1;33m     \u001B[1;32mfrom\u001B[0m \u001B[0mnilmtk\u001B[0m\u001B[1;33m.\u001B[0m\u001B[0melecmeter\u001B[0m \u001B[1;32mimport\u001B[0m \u001B[0mElecMeter\u001B[0m\u001B[1;33m\u001B[0m\u001B[1;33m\u001B[0m\u001B[0m\n\u001B[0m\u001B[0;32m     10\u001B[0m     \u001B[1;32mfrom\u001B[0m \u001B[0mnilmtk\u001B[0m\u001B[1;33m.\u001B[0m\u001B[0mdatastore\u001B[0m \u001B[1;32mimport\u001B[0m \u001B[0mDataStore\u001B[0m\u001B[1;33m,\u001B[0m \u001B[0mHDFDataStore\u001B[0m\u001B[1;33m,\u001B[0m \u001B[0mCSVDataStore\u001B[0m\u001B[1;33m,\u001B[0m \u001B[0mKey\u001B[0m\u001B[1;33m\u001B[0m\u001B[1;33m\u001B[0m\u001B[0m\n\u001B[0;32m     11\u001B[0m     \u001B[1;32mfrom\u001B[0m \u001B[0mnilmtk\u001B[0m\u001B[1;33m.\u001B[0m\u001B[0mmetergroup\u001B[0m \u001B[1;32mimport\u001B[0m \u001B[0mMeterGroup\u001B[0m\u001B[1;33m\u001B[0m\u001B[1;33m\u001B[0m\u001B[0m\n",
      "\u001B[1;32mD:\\BaiduSyncdisk\\paper_NILM\\NeuralNILM_Pytorch-main\\nilmtk\\elecmeter.py\u001B[0m in \u001B[0;36m<module>\u001B[1;34m\u001B[0m\n\u001B[0;32m     10\u001B[0m                           check_ac_type, check_physical_quantity)\n\u001B[0;32m     11\u001B[0m \u001B[1;32mfrom\u001B[0m \u001B[1;33m.\u001B[0m\u001B[0mnode\u001B[0m \u001B[1;32mimport\u001B[0m \u001B[0mNode\u001B[0m\u001B[1;33m\u001B[0m\u001B[1;33m\u001B[0m\u001B[0m\n\u001B[1;32m---> 12\u001B[1;33m \u001B[1;32mfrom\u001B[0m \u001B[1;33m.\u001B[0m\u001B[0melectric\u001B[0m \u001B[1;32mimport\u001B[0m \u001B[0mElectric\u001B[0m\u001B[1;33m\u001B[0m\u001B[1;33m\u001B[0m\u001B[0m\n\u001B[0m\u001B[0;32m     13\u001B[0m \u001B[1;32mfrom\u001B[0m \u001B[0mnilmtk\u001B[0m\u001B[1;33m.\u001B[0m\u001B[0mexceptions\u001B[0m \u001B[1;32mimport\u001B[0m \u001B[0mMeasurementError\u001B[0m\u001B[1;33m\u001B[0m\u001B[1;33m\u001B[0m\u001B[0m\n\u001B[0;32m     14\u001B[0m \u001B[1;32mfrom\u001B[0m \u001B[1;33m.\u001B[0m\u001B[0mutils\u001B[0m \u001B[1;32mimport\u001B[0m \u001B[0mflatten_2d_list\u001B[0m\u001B[1;33m,\u001B[0m \u001B[0mcapitalise_first_letter\u001B[0m\u001B[1;33m\u001B[0m\u001B[1;33m\u001B[0m\u001B[0m\n",
      "\u001B[1;32mD:\\BaiduSyncdisk\\paper_NILM\\NeuralNILM_Pytorch-main\\nilmtk\\electric.py\u001B[0m in \u001B[0;36m<module>\u001B[1;34m\u001B[0m\n\u001B[0;32m     20\u001B[0m                     \u001B[0mflatten_2d_list\u001B[0m\u001B[1;33m,\u001B[0m \u001B[0mappend_or_extend_list\u001B[0m\u001B[1;33m,\u001B[0m\u001B[1;33m\u001B[0m\u001B[1;33m\u001B[0m\u001B[0m\n\u001B[0;32m     21\u001B[0m                     timedelta64_to_secs, safe_resample)\n\u001B[1;32m---> 22\u001B[1;33m \u001B[1;32mfrom\u001B[0m \u001B[1;33m.\u001B[0m\u001B[0mplots\u001B[0m \u001B[1;32mimport\u001B[0m \u001B[0mplot_series\u001B[0m\u001B[1;33m\u001B[0m\u001B[1;33m\u001B[0m\u001B[0m\n\u001B[0m\u001B[0;32m     23\u001B[0m \u001B[1;32mfrom\u001B[0m \u001B[1;33m.\u001B[0m\u001B[0mpreprocessing\u001B[0m \u001B[1;32mimport\u001B[0m \u001B[0mApply\u001B[0m\u001B[1;33m\u001B[0m\u001B[1;33m\u001B[0m\u001B[0m\n\u001B[0;32m     24\u001B[0m \u001B[1;32mfrom\u001B[0m \u001B[0mnilmtk\u001B[0m\u001B[1;33m.\u001B[0m\u001B[0mstats\u001B[0m\u001B[1;33m.\u001B[0m\u001B[0mhistogram\u001B[0m \u001B[1;32mimport\u001B[0m \u001B[0mhistogram_from_generator\u001B[0m\u001B[1;33m\u001B[0m\u001B[1;33m\u001B[0m\u001B[0m\n",
      "\u001B[1;32mD:\\BaiduSyncdisk\\paper_NILM\\NeuralNILM_Pytorch-main\\nilmtk\\plots.py\u001B[0m in \u001B[0;36m<module>\u001B[1;34m\u001B[0m\n\u001B[0;32m      5\u001B[0m \u001B[1;32mfrom\u001B[0m \u001B[0mmath\u001B[0m \u001B[1;32mimport\u001B[0m \u001B[0msqrt\u001B[0m\u001B[1;33m\u001B[0m\u001B[1;33m\u001B[0m\u001B[0m\n\u001B[0;32m      6\u001B[0m \u001B[1;33m\u001B[0m\u001B[0m\n\u001B[1;32m----> 7\u001B[1;33m \u001B[0m_to_ordinalf_np_vectorized\u001B[0m \u001B[1;33m=\u001B[0m \u001B[0mnp\u001B[0m\u001B[1;33m.\u001B[0m\u001B[0mvectorize\u001B[0m\u001B[1;33m(\u001B[0m\u001B[0mmdates\u001B[0m\u001B[1;33m.\u001B[0m\u001B[0m_to_ordinalf\u001B[0m\u001B[1;33m)\u001B[0m\u001B[1;33m\u001B[0m\u001B[1;33m\u001B[0m\u001B[0m\n\u001B[0m\u001B[0;32m      8\u001B[0m \u001B[1;33m\u001B[0m\u001B[0m\n\u001B[0;32m      9\u001B[0m \u001B[1;33m\u001B[0m\u001B[0m\n",
      "\u001B[1;31mAttributeError\u001B[0m: module 'matplotlib.dates' has no attribute '_to_ordinalf'"
     ]
    }
   ],
   "source": [
    "from nilmtk.api import API\n",
    "import warnings\n",
    "warnings.filterwarnings(\"ignore\")\n",
    "from nilmtk.disaggregate import SGN"
   ]
  },
  {
   "cell_type": "markdown",
   "metadata": {},
   "source": [
    "Then, specify the **experiment configuration** as described in annotation."
   ]
  },
  {
   "cell_type": "code",
   "execution_count": null,
   "metadata": {},
   "outputs": [],
   "source": [
    "e = {\n",
    "  # Specify power type, sample rate and disaggregated appliance\n",
    "  'power': {\n",
    "    'mains': ['active'],\n",
    "    'appliance': ['active']\n",
    "  },\n",
    "  'sample_rate': 6,\n",
    "  'appliances': ['washing machine'],\n",
    "  # Universally no pre-training\n",
    "  'pre_trained':False,\n",
    "  # Specify algorithm hyper-parameters\n",
    "  'methods':{\"SGN\":SGN({'n_epochs':3,'batch_size':256})},\n",
    "  # Specify train and test data\n",
    " 'train': {\n",
    "    'datasets':{\n",
    "      'ukdale': {\n",
    "        'path': '/mnt/ukdale.h5',\n",
    "        'buildings': {\n",
    "              1: {\n",
    "                    'start_time': '2013-06-01',\n",
    "                    'end_time': '2013-07-01'\n",
    "              }\n",
    "          }\n",
    "        },      \n",
    "    }\n",
    "  },\n",
    "  'test': {\n",
    "    'datasets':{\n",
    "      'ukdale': {\n",
    "        'path': '/mnt/ukdale.h5',\n",
    "        'buildings': {\n",
    "              1: {\n",
    "                    'start_time': '2013-07-01',\n",
    "                    'end_time': '2013-07-07'\n",
    "              }\n",
    "          }\n",
    "        },\n",
    "        \n",
    "  },\n",
    "  # Specify evaluation metrics\n",
    "  'metrics': ['mae', 'f1score', 'recall', 'precision', 'nep' , 'omae', 'MCC']\n",
    "  }\n",
    "}\n",
    "\n",
    "API(e)"
   ]
  },
  {
   "cell_type": "markdown",
   "metadata": {},
   "source": [
    "From above results, we can know the **inferring and training time consumption** of specific neural network on the given dataset as well as **emory usage**. **Classification metrics(namely recall, precision, and MCC)** and **regression metrics(mae, omae, nep)** will also be reported.And **detailed energy disaggregation result and ground truth** can be found in .csv file under the same folder."
   ]
  },
  {
   "cell_type": "code",
   "execution_count": null,
   "metadata": {},
   "outputs": [],
   "source": []
  }
 ],
 "metadata": {
  "kernelspec": {
   "display_name": "Python 3",
   "language": "python",
   "name": "python3"
  },
  "language_info": {
   "codemirror_mode": {
    "name": "ipython",
    "version": 3
   },
   "file_extension": ".py",
   "mimetype": "text/x-python",
   "name": "python",
   "nbconvert_exporter": "python",
   "pygments_lexer": "ipython3",
   "version": "3.7.6"
  }
 },
 "nbformat": 4,
 "nbformat_minor": 4
}